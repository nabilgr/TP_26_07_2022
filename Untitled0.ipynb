{
  "nbformat": 4,
  "nbformat_minor": 0,
  "metadata": {
    "colab": {
      "name": "Untitled0.ipynb",
      "provenance": [],
      "collapsed_sections": [],
      "authorship_tag": "ABX9TyOMHD6MEjbys3Dif/kS3j9U",
      "include_colab_link": true
    },
    "kernelspec": {
      "name": "python3",
      "display_name": "Python 3"
    },
    "language_info": {
      "name": "python"
    }
  },
  "cells": [
    {
      "cell_type": "markdown",
      "metadata": {
        "id": "view-in-github",
        "colab_type": "text"
      },
      "source": [
        "<a href=\"https://colab.research.google.com/github/nabilgr/TP_26_07_2022/blob/main/Untitled0.ipynb\" target=\"_parent\"><img src=\"https://colab.research.google.com/assets/colab-badge.svg\" alt=\"Open In Colab\"/></a>"
      ]
    },
    {
      "cell_type": "code",
      "execution_count": 55,
      "metadata": {
        "colab": {
          "base_uri": "https://localhost:8080/",
          "height": 406
        },
        "id": "irNG0IS52sML",
        "outputId": "220ccb22-3f47-4aec-d2fb-c8b45309fab8"
      },
      "outputs": [
        {
          "output_type": "display_data",
          "data": {
            "text/plain": [
              "<Figure size 432x288 with 1 Axes>"
            ],
            "image/png": "[encoded data removed]"
          },
          "metadata": {}
        }
      ],
      "source": [
        "import matplotlib.pyplot as plt\n",
        "activities = ['manger', 'dormir', 'travailler', 'divertissement']\n",
        "slices = [5, 2, 6, 4]\n",
        "colors = ['r', 'y', 'g', 'b']\n",
        "plt.pie(slices, labels = activities, colors=colors,\n",
        "startangle=90, shadow = True, explode = (1, 0.6, 0.1, 0),\n",
        "radius = 1.8, autopct = '%1.2f%%')\n",
        "plt.legend()\n",
        "plt.show()"
      ]
    },
    {
      "cell_type": "code",
      "source": [
        ""
      ],
      "metadata": {
        "id": "BijI2E0aS_JN"
      },
      "execution_count": null,
      "outputs": []
    },
    {
      "cell_type": "code",
      "source": [
        "x=12,3\n",
        "print(x)\n",
        "y=3.2\n",
        "print (type(x))\n",
        "print (type(y))"
      ],
      "metadata": {
        "colab": {
          "base_uri": "https://localhost:8080/"
        },
        "id": "hwC7VD8aHAG_",
        "outputId": "a9f4c794-23fd-4d8a-dd93-25cf326e3bd8"
      },
      "execution_count": 18,
      "outputs": [
        {
          "output_type": "stream",
          "name": "stdout",
          "text": [
            "(12, 3)\n",
            "<class 'tuple'>\n",
            "<class 'float'>\n"
          ]
        }
      ]
    },
    {
      "cell_type": "code",
      "source": [
        "x=12\n",
        "y=14\n",
        "print('la somme de x et y est égale à',x+y)\n",
        "print(x/y)\n",
        "print(x//y)\n",
        "print(x%y)\n",
        "print(x*y)\n",
        "print (type(3E-3))\n",
        "print (x**2)\n",
        "print (10E16)\n",
        "print(x==y)\n"
      ],
      "metadata": {
        "colab": {
          "base_uri": "https://localhost:8080/"
        },
        "id": "nHHVvD0GKDgJ",
        "outputId": "930361a8-aa9c-4e36-e830-ff2e3a649797"
      },
      "execution_count": 34,
      "outputs": [
        {
          "output_type": "stream",
          "name": "stdout",
          "text": [
            "la somme de x et y est égale à 26\n",
            "0.8571428571428571\n",
            "0\n",
            "12\n",
            "168\n",
            "<class 'float'>\n",
            "144\n",
            "1e+17\n",
            "False\n"
          ]
        }
      ]
    },
    {
      "cell_type": "code",
      "source": [
        "help(\"keywords\")\n",
        "import keyword\n",
        "keyword.kwlist\n",
        "maChaine = \"\"\"Bonjour\n",
        "tous le monde\"\"\"\n",
        "print (maChaine)\n",
        "maChaine\n",
        "chaine='j\\'aime le phyton!'\n",
        "print(chaine)"
      ],
      "metadata": {
        "colab": {
          "base_uri": "https://localhost:8080/"
        },
        "id": "-LT1KDVvN9ru",
        "outputId": "ec9a372c-4c2e-43cb-a03c-fc98b899c055"
      },
      "execution_count": 47,
      "outputs": [
        {
          "output_type": "stream",
          "name": "stdout",
          "text": [
            "\n",
            "Here is a list of the Python keywords.  Enter any keyword to get more help.\n",
            "\n",
            "False               class               from                or\n",
            "None                continue            global              pass\n",
            "True                def                 if                  raise\n",
            "and                 del                 import              return\n",
            "as                  elif                in                  try\n",
            "assert              else                is                  while\n",
            "async               except              lambda              with\n",
            "await               finally             nonlocal            yield\n",
            "break               for                 not                 \n",
            "\n",
            "Bonjour\n",
            "tous le monde\n",
            "j'aime le phyton!\n"
          ]
        }
      ]
    },
    {
      "cell_type": "code",
      "source": [
        "a=5\n",
        "b=32\n",
        "a,b=b,a\n",
        "print (a)\n",
        "print (b)"
      ],
      "metadata": {
        "colab": {
          "base_uri": "https://localhost:8080/"
        },
        "id": "BP_v1xwaRXe8",
        "outputId": "c9dc369f-b2d8-47c8-80c3-6c55c72975ae"
      },
      "execution_count": 49,
      "outputs": [
        {
          "output_type": "stream",
          "name": "stdout",
          "text": [
            "32\n",
            "5\n"
          ]
        }
      ]
    },
    {
      "cell_type": "code",
      "source": [
        "annee=int(input(\"Saisissez une année : \"))\n",
        "\n",
        "type (annee)\n",
        "b=int(input(\"Saisissez b : \"))\n",
        "print (annee+b)\n"
      ],
      "metadata": {
        "colab": {
          "base_uri": "https://localhost:8080/"
        },
        "id": "89t_ArSITA26",
        "outputId": "1e40a535-3308-416c-871b-35166f688629"
      },
      "execution_count": 59,
      "outputs": [
        {
          "output_type": "stream",
          "name": "stdout",
          "text": [
            "Saisissez une année : 2009\n",
            "Saisissez b : 4\n",
            "2013\n"
          ]
        }
      ]
    },
    {
      "cell_type": "code",
      "source": [
        "ray=float(input(\"Saisissez le rayon : \"))\n",
        "haut=float(input(\"Saisissez le volume : \"))\n",
        "Volume = (3.14*ray**2*haut)/3\n",
        "print(Volume)"
      ],
      "metadata": {
        "colab": {
          "base_uri": "https://localhost:8080/"
        },
        "id": "ll_L95LNWOvx",
        "outputId": "b2dd218d-0770-4116-c205-1825a4fe95d5"
      },
      "execution_count": 62,
      "outputs": [
        {
          "output_type": "stream",
          "name": "stdout",
          "text": [
            "Saisissez le rayon : 5\n",
            "Saisissez le volume : 2\n",
            "52.333333333333336\n"
          ]
        }
      ]
    },
    {
      "cell_type": "code",
      "source": [
        "a=int(input(\"Saisissez une valeur entiere : \"))\n",
        "b=str(a)+str(a)\n",
        "c=str(a)+str(a)+str(a)\n",
        "print (a+int(b)+int(c))\n"
      ],
      "metadata": {
        "colab": {
          "base_uri": "https://localhost:8080/"
        },
        "id": "xTMlEiryX69R",
        "outputId": "65d88be3-98ef-45b9-e40d-1ef4a5ece30f"
      },
      "execution_count": 63,
      "outputs": [
        {
          "output_type": "stream",
          "name": "stdout",
          "text": [
            "Saisissez une valeur entiere : 5\n",
            "615\n"
          ]
        }
      ]
    },
    {
      "cell_type": "code",
      "source": [
        "x=int(input(\"Saisissez une valeur entiere x: \"))\n",
        "y=int(input(\"Saisissez une valeur entiere y: \"))\n",
        "z=x**2+2*x*y+y**2\n",
        "print(z)"
      ],
      "metadata": {
        "colab": {
          "base_uri": "https://localhost:8080/"
        },
        "id": "kzOLvZf_Y-N6",
        "outputId": "8953f527-02f2-40c3-b7c5-77f4d071e069"
      },
      "execution_count": 64,
      "outputs": [
        {
          "output_type": "stream",
          "name": "stdout",
          "text": [
            "Saisissez une valeur entiere x: 2\n",
            "Saisissez une valeur entiere y: 3\n",
            "25\n"
          ]
        }
      ]
    },
    {
      "cell_type": "code",
      "source": [
        "x=int(input(\"Saisissez nombre de secondes: \"))\n",
        "Jour=x//86400\n",
        "H=(Jour%86400)//3600\n",
        "M=H//60\n",
        "mm=M%60\n",
        "print (Jour,\"jour, \",H,\"Heures ,\",M,\"Minutes ,\",mm,\"Secondes\")"
      ],
      "metadata": {
        "colab": {
          "base_uri": "https://localhost:8080/"
        },
        "id": "BW34zUbDZvuZ",
        "outputId": "88e4934e-f57c-4402-8621-8e0ad031c5e8"
      },
      "execution_count": 78,
      "outputs": [
        {
          "output_type": "stream",
          "name": "stdout",
          "text": [
            "Saisissez nombre de secondes: 86400\n",
            "1 jour 0 Heures : 0 Minutes : 0 Secondes :\n"
          ]
        }
      ]
    },
    {
      "cell_type": "code",
      "source": [
        "x=int(input(\"Saisissez nombre de 4 chiffres: \"))\n",
        "a=x//1000\n",
        "b=(x%1000)//100\n",
        "c=((x%1000)%100)//10\n",
        "d=((x%1000)%100)%10\n",
        "print(a+b+c+d)"
      ],
      "metadata": {
        "colab": {
          "base_uri": "https://localhost:8080/"
        },
        "id": "umSp8wO0cf8C",
        "outputId": "7abf7579-95e3-4686-83de-76b08080aca6"
      },
      "execution_count": 84,
      "outputs": [
        {
          "output_type": "stream",
          "name": "stdout",
          "text": [
            "Saisissez nombre de 4 chiffres: 5245\n",
            "16\n"
          ]
        }
      ]
    },
    {
      "cell_type": "code",
      "source": [
        ""
      ],
      "metadata": {
        "id": "wLV1StKhiIpW"
      },
      "execution_count": null,
      "outputs": []
    }
  ]
}